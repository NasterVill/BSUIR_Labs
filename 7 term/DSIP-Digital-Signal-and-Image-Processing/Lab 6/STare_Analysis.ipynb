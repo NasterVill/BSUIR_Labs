{
  "nbformat": 4,
  "nbformat_minor": 0,
  "metadata": {
    "colab": {
      "name": "STare_Analysis.ipynb",
      "provenance": [],
      "collapsed_sections": []
    },
    "kernelspec": {
      "name": "python3",
      "display_name": "Python 3"
    },
    "accelerator": "GPU"
  },
  "cells": [
    {
      "cell_type": "code",
      "metadata": {
        "id": "skVRXj-7wMS2",
        "colab_type": "code",
        "colab": {}
      },
      "source": [
        "from fastai.vision import * # import the vision module\n",
        "from google.colab import drive\n",
        "from google.colab import files\n",
        "import pandas as pd\n",
        "import numpy as np\n",
        "import random\n",
        "import math\n",
        "import io\n",
        "import os"
      ],
      "execution_count": 0,
      "outputs": []
    },
    {
      "cell_type": "code",
      "metadata": {
        "id": "3Eu6z0hmxtMj",
        "colab_type": "code",
        "colab": {}
      },
      "source": [
        "def generate_random_sets(max: int, set_size: int):\n",
        "    numbers = list(range(max))\n",
        "\n",
        "    n_sets = int(math.ceil(max / set_size))\n",
        "\n",
        "    sets = []\n",
        "\n",
        "    for i in range(n_sets):\n",
        "        k = set_size\n",
        "\n",
        "        if set_size > len(numbers):\n",
        "          k = len(numbers)\n",
        "\n",
        "        tmp_set = random.sample(numbers, k=k)\n",
        "\n",
        "        for j in tmp_set:\n",
        "            numbers.remove(j)\n",
        "\n",
        "        sets.append(tmp_set)\n",
        "\n",
        "        print(i, tmp_set)\n",
        "\n",
        "    return sets"
      ],
      "execution_count": 0,
      "outputs": []
    },
    {
      "cell_type": "code",
      "metadata": {
        "id": "xpSeP6crxtzE",
        "colab_type": "code",
        "outputId": "45b59a61-db30-44ef-e459-3d56fe64624f",
        "colab": {
          "base_uri": "https://localhost:8080/",
          "height": 187
        }
      },
      "source": [
        "vildation_indices = generate_random_sets(416, 42)"
      ],
      "execution_count": 0,
      "outputs": [
        {
          "output_type": "stream",
          "text": [
            "0 [410, 414, 39, 35, 270, 101, 262, 194, 55, 404, 375, 113, 312, 139, 214, 373, 225, 99, 320, 135, 365, 132, 189, 125, 254, 196, 403, 242, 248, 130, 275, 230, 70, 313, 217, 168, 266, 32, 6, 12, 88, 352]\n",
            "1 [321, 51, 381, 265, 75, 133, 150, 216, 178, 203, 400, 226, 399, 114, 63, 303, 74, 83, 377, 76, 324, 126, 257, 5, 319, 109, 152, 197, 40, 383, 361, 208, 127, 384, 409, 343, 43, 282, 170, 317, 277, 72]\n",
            "2 [371, 325, 272, 210, 218, 315, 290, 96, 405, 311, 129, 318, 337, 142, 46, 366, 156, 345, 368, 107, 45, 301, 408, 21, 17, 304, 376, 341, 326, 285, 372, 176, 346, 100, 94, 184, 42, 7, 141, 374, 188, 276]\n",
            "3 [2, 64, 299, 370, 251, 392, 212, 47, 20, 236, 34, 160, 245, 380, 19, 271, 4, 103, 68, 195, 247, 227, 295, 249, 77, 198, 38, 162, 158, 52, 396, 328, 293, 391, 347, 357, 258, 348, 182, 16, 151, 171]\n",
            "4 [402, 144, 27, 215, 333, 288, 323, 327, 79, 148, 154, 204, 261, 26, 58, 344, 300, 359, 351, 363, 356, 65, 105, 264, 134, 56, 281, 180, 104, 379, 224, 233, 329, 155, 308, 110, 10, 358, 25, 229, 310, 393]\n",
            "5 [279, 354, 353, 386, 223, 406, 411, 244, 302, 398, 53, 69, 82, 349, 14, 124, 187, 179, 140, 90, 97, 108, 78, 243, 207, 84, 407, 166, 331, 102, 147, 297, 118, 382, 401, 395, 61, 44, 169, 48, 322, 95]\n",
            "6 [157, 413, 289, 8, 137, 145, 228, 206, 291, 177, 287, 205, 86, 87, 186, 115, 181, 219, 122, 250, 28, 339, 220, 159, 415, 173, 263, 24, 143, 259, 369, 334, 336, 54, 1, 241, 98, 234, 161, 57, 172, 41]\n",
            "7 [240, 153, 9, 387, 238, 30, 67, 131, 111, 3, 146, 286, 183, 123, 222, 149, 256, 305, 284, 175, 33, 60, 136, 274, 62, 117, 23, 50, 221, 342, 385, 120, 163, 412, 0, 202, 59, 309, 397, 232, 193, 330]\n",
            "8 [335, 298, 22, 190, 15, 255, 388, 199, 280, 378, 119, 394, 13, 11, 213, 92, 283, 360, 116, 185, 128, 390, 389, 121, 296, 367, 338, 36, 239, 106, 209, 278, 306, 165, 174, 350, 362, 66, 93, 237, 37, 246]\n",
            "9 [252, 164, 29, 112, 292, 49, 307, 138, 91, 89, 81, 269, 73, 294, 235, 191, 18, 340, 316, 355, 80, 31, 211, 167, 273, 200, 85, 314, 201, 364, 267, 268, 260, 192, 231, 253, 71, 332]\n"
          ],
          "name": "stdout"
        }
      ]
    },
    {
      "cell_type": "code",
      "metadata": {
        "id": "uvyRGf62Og6y",
        "colab_type": "code",
        "outputId": "63fff014-19ef-4c41-fe6d-ac256adb8ca3",
        "colab": {
          "base_uri": "https://localhost:8080/",
          "height": 34
        }
      },
      "source": [
        "drive.mount('drive')"
      ],
      "execution_count": 0,
      "outputs": [
        {
          "output_type": "stream",
          "text": [
            "Drive already mounted at drive; to attempt to forcibly remount, call drive.mount(\"drive\", force_remount=True).\n"
          ],
          "name": "stdout"
        }
      ]
    },
    {
      "cell_type": "code",
      "metadata": {
        "id": "v7j3INemMdD8",
        "colab_type": "code",
        "colab": {}
      },
      "source": [
        "PATH = 'drive/My Drive/Colab Notebooks'"
      ],
      "execution_count": 0,
      "outputs": []
    },
    {
      "cell_type": "code",
      "metadata": {
        "id": "HP3XcDFxNxBs",
        "colab_type": "code",
        "outputId": "29e26e4a-0a72-48a2-acdf-2b4f7aadde16",
        "colab": {
          "base_uri": "https://localhost:8080/",
          "height": 204
        }
      },
      "source": [
        "df = pd.read_csv(f'{PATH}/train_validation.csv')\n",
        "df.head()"
      ],
      "execution_count": 0,
      "outputs": [
        {
          "output_type": "execute_result",
          "data": {
            "text/html": [
              "<div>\n",
              "<style scoped>\n",
              "    .dataframe tbody tr th:only-of-type {\n",
              "        vertical-align: middle;\n",
              "    }\n",
              "\n",
              "    .dataframe tbody tr th {\n",
              "        vertical-align: top;\n",
              "    }\n",
              "\n",
              "    .dataframe thead th {\n",
              "        text-align: right;\n",
              "    }\n",
              "</style>\n",
              "<table border=\"1\" class=\"dataframe\">\n",
              "  <thead>\n",
              "    <tr style=\"text-align: right;\">\n",
              "      <th></th>\n",
              "      <th>image_name</th>\n",
              "      <th>labels</th>\n",
              "    </tr>\n",
              "  </thead>\n",
              "  <tbody>\n",
              "    <tr>\n",
              "      <th>0</th>\n",
              "      <td>im0001</td>\n",
              "      <td>7</td>\n",
              "    </tr>\n",
              "    <tr>\n",
              "      <th>1</th>\n",
              "      <td>augmented_im0001</td>\n",
              "      <td>7</td>\n",
              "    </tr>\n",
              "    <tr>\n",
              "      <th>2</th>\n",
              "      <td>im0002</td>\n",
              "      <td>13 9</td>\n",
              "    </tr>\n",
              "    <tr>\n",
              "      <th>3</th>\n",
              "      <td>augmented_im0002</td>\n",
              "      <td>13 9</td>\n",
              "    </tr>\n",
              "    <tr>\n",
              "      <th>4</th>\n",
              "      <td>im0004</td>\n",
              "      <td>3</td>\n",
              "    </tr>\n",
              "  </tbody>\n",
              "</table>\n",
              "</div>"
            ],
            "text/plain": [
              "         image_name labels\n",
              "0            im0001      7\n",
              "1  augmented_im0001      7\n",
              "2            im0002   13 9\n",
              "3  augmented_im0002   13 9\n",
              "4            im0004      3"
            ]
          },
          "metadata": {
            "tags": []
          },
          "execution_count": 25
        }
      ]
    },
    {
      "cell_type": "code",
      "metadata": {
        "id": "kQGMuSrK6vWg",
        "colab_type": "code",
        "colab": {}
      },
      "source": [
        "test_df = pd.read_csv(f'{PATH}/test_set.csv')\n",
        "test = ImageList.from_df(df=test_df, path=PATH, cols=0, folder='test', suffix='.png')"
      ],
      "execution_count": 0,
      "outputs": []
    },
    {
      "cell_type": "code",
      "metadata": {
        "id": "meVlRKQOSCpd",
        "colab_type": "code",
        "colab": {}
      },
      "source": [
        "metrics = []\n",
        "\n",
        "for i in range(len(vildation_indices)):\n",
        "  src = (\n",
        "      ImageList.from_df(df=df, path=PATH, cols=0, folder='transformed', suffix='.png')\n",
        "        # Load data from csv\n",
        "        .split_by_idx(vildation_indices[i])\n",
        "        # split data into training and validation set (15% validation)\n",
        "        .label_from_df(label_delim=' ')\n",
        "        # label data using the tags column (second column is default)\n",
        "  )\n",
        "\n",
        "  data = (src.transform(size=128).databunch(bs=64).normalize(imagenet_stats))\n",
        "\n",
        "  acc_02 = partial(accuracy_thresh, thresh=0.2)\n",
        "  f_score = partial(fbeta, thresh=0.2)\n",
        "  learn = cnn_learner(data, models.resnet34, metrics=[acc_02, f_score])\n",
        "\n",
        "  lr = 1e-02\n",
        "  learn.fit_one_cycle(8, lr)\n",
        "\n",
        "  print(2222, learn.validate(learn.data.valid_dl))\n",
        "\n",
        "  learn.unfreeze()\n",
        "  learn.fit_one_cycle(8, slice(1e-5, lr/5))\n",
        "\n",
        "  # switch resolution\n",
        "  data = (src.transform(tfms, size=256)\n",
        "          .databunch(bs=16).normalize(imagenet_stats))\n",
        "  learn.data = data\n",
        "\n",
        "  learn.freeze()\n",
        "  lr=1e-2/2\n",
        "  learn.fit_one_cycle(5, slice(1e-3, 1e-2))\n",
        "\n",
        "  learn.unfreeze()\n",
        "  learn.fit_one_cycle(5, slice(1e-7, lr/5))\n",
        "\n",
        "  metric = learn.validate(learn.data.valid_dl)\n",
        "\n",
        "  print(i, metrics)\n",
        "\n",
        "  metrics.append(metric)\n",
        "\n",
        "  learn.export()\n",
        "\n",
        "  learn = load_learner(PATH, test=test)\n",
        "  preds, _ = learn.get_preds(ds_type=DatasetType.Test)\n",
        "\n",
        "  thresh = 0.2\n",
        "  labelled_preds = [' '.join([learn.data.classes[i] for i,p in enumerate(pred) if (p > thresh and i < 14)]) for pred in preds]\n",
        "  fnames = test_df['image_name'].tolist()\n",
        "\n",
        "  result_df = pd.DataFrame({'image_name':fnames, 'labels':labelled_preds}, columns=['image_name', 'labels'])\n",
        "  result_df.to_csv(PATH + f'/result_cross{i}.csv', index=False)"
      ],
      "execution_count": 0,
      "outputs": []
    },
    {
      "cell_type": "code",
      "metadata": {
        "id": "MT9NnH-KM7p2",
        "colab_type": "code",
        "outputId": "fbed3655-f0a4-4963-e299-9832ebd1fb68",
        "colab": {
          "base_uri": "https://localhost:8080/",
          "height": 187
        }
      },
      "source": [
        "for i in range(len(metrics)):\n",
        "  print(i, metrics[i])"
      ],
      "execution_count": 0,
      "outputs": [
        {
          "output_type": "stream",
          "text": [
            "0 [0.119307816, tensor(0.9492), tensor(0.7124)]\n",
            "1 [0.1251388, tensor(0.9286), tensor(0.6412)]\n",
            "2 [0.19059177, tensor(0.9317), tensor(0.6132)]\n",
            "3 [0.10956276, tensor(0.9476), tensor(0.7835)]\n",
            "4 [0.1626016, tensor(0.9286), tensor(0.6132)]\n",
            "5 [0.12193873, tensor(0.9476), tensor(0.7700)]\n",
            "6 [0.14927192, tensor(0.9476), tensor(0.7212)]\n",
            "7 [0.1107, tensor(0.9540), tensor(0.7850)]\n",
            "8 [0.11191581, tensor(0.9508), tensor(0.7733)]\n",
            "9 [0.17915815, tensor(0.9088), tensor(0.5715)]\n"
          ],
          "name": "stdout"
        }
      ]
    }
  ]
}